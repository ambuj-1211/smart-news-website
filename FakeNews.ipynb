{
  "cells": [
    {
      "cell_type": "code",
      "execution_count": 1,
      "metadata": {
        "id": "6lb2e6T-jsaH"
      },
      "outputs": [],
      "source": [
        "import numpy as np\n",
        "import pandas as pd"
      ]
    },
    {
      "cell_type": "code",
      "execution_count": 2,
      "metadata": {
        "colab": {
          "base_uri": "https://localhost:8080/"
        },
        "id": "3K1BIPYuzsn4",
        "outputId": "e65f5af5-b7a5-46ee-8bf0-d1984307c88c"
      },
      "outputs": [
        {
          "name": "stdout",
          "output_type": "stream",
          "text": [
            "Mounted at /content/drive\n"
          ]
        }
      ],
      "source": [
        "from google.colab import drive\n",
        "drive.mount('/content/drive', force_remount=True)"
      ]
    },
    {
      "cell_type": "code",
      "execution_count": 3,
      "metadata": {
        "id": "FXJaytd3z7Zx"
      },
      "outputs": [],
      "source": [
        "!cp -r drive/MyDrive/smart-news-website/ /content/smart-news-website"
      ]
    },
    {
      "cell_type": "code",
      "execution_count": 4,
      "metadata": {
        "colab": {
          "base_uri": "https://localhost:8080/"
        },
        "id": "QeWZnP4R7-L0",
        "outputId": "26f1e611-84fa-4c43-e347-650096f6fb8f"
      },
      "outputs": [
        {
          "name": "stdout",
          "output_type": "stream",
          "text": [
            "/content/smart-news-website\n"
          ]
        }
      ],
      "source": [
        "%cd smart-news-website/"
      ]
    },
    {
      "cell_type": "code",
      "execution_count": 6,
      "metadata": {
        "colab": {
          "base_uri": "https://localhost:8080/"
        },
        "id": "_IXbTLF91d2S",
        "outputId": "abbf05c6-481a-4b94-c018-9743b4234b5b"
      },
      "outputs": [
        {
          "name": "stdout",
          "output_type": "stream",
          "text": [
            "[nltk_data] Downloading package stopwords to /root/nltk_data...\n",
            "[nltk_data]   Unzipping corpora/stopwords.zip.\n"
          ]
        },
        {
          "data": {
            "text/plain": [
              "True"
            ]
          },
          "execution_count": 6,
          "metadata": {},
          "output_type": "execute_result"
        }
      ],
      "source": [
        "import nltk\n",
        "nltk.download('stopwords')"
      ]
    },
    {
      "cell_type": "code",
      "execution_count": null,
      "metadata": {
        "id": "QALyVHDIjsaR"
      },
      "outputs": [],
      "source": [
        "fake_news = pd.read_csv('/content/smart-news-website/FakeNews/Fake.csv')\n",
        "true_news = pd.read_csv('/content/smart-news-website/FakeNews/True.csv')"
      ]
    },
    {
      "cell_type": "code",
      "execution_count": null,
      "metadata": {
        "colab": {
          "base_uri": "https://localhost:8080/"
        },
        "id": "-4RzZe6DClOr",
        "outputId": "e39b325c-b9f6-4a78-eca2-daae80e4d98f"
      },
      "outputs": [
        {
          "data": {
            "text/plain": [
              "0        Donald Trump just couldn t wish all Americans ...\n",
              "1        House Intelligence Committee Chairman Devin Nu...\n",
              "2        On Friday, it was revealed that former Milwauk...\n",
              "3        On Christmas day, Donald Trump announced that ...\n",
              "4        Pope Francis used his annual Christmas Day mes...\n",
              "                               ...                        \n",
              "23476    21st Century Wire says As 21WIRE reported earl...\n",
              "23477    21st Century Wire says It s a familiar theme. ...\n",
              "23478    Patrick Henningsen  21st Century WireRemember ...\n",
              "23479    21st Century Wire says Al Jazeera America will...\n",
              "23480    21st Century Wire says As 21WIRE predicted in ...\n",
              "Name: text, Length: 23481, dtype: object"
            ]
          },
          "execution_count": 34,
          "metadata": {},
          "output_type": "execute_result"
        }
      ],
      "source": [
        "fake_news = fake_news['text']\n",
        "true_news = true_news['text']\n",
        "\n",
        "fake_news"
      ]
    },
    {
      "cell_type": "code",
      "execution_count": null,
      "metadata": {
        "colab": {
          "base_uri": "https://localhost:8080/"
        },
        "id": "3NAse6gfjsac",
        "outputId": "231635c7-1141-4dd6-a8cd-134201461c88"
      },
      "outputs": [
        {
          "data": {
            "text/plain": [
              "0    donald trump wish americans happy new year lea...\n",
              "1    house intelligence committee chairman devin nu...\n",
              "2    friday -PRON- reveal former milwaukee sheriff ...\n",
              "3    christmas day donald trump announce -PRON- wou...\n",
              "4    pope francis use -PRON- annual christmas day m...\n",
              "Name: text, dtype: object"
            ]
          },
          "execution_count": 35,
          "metadata": {},
          "output_type": "execute_result"
        }
      ],
      "source": [
        "from data import PreProcessor\n",
        "\n",
        "preproc = PreProcessor()\n",
        "\n",
        "fake_news = fake_news.apply(preproc.forward)\n",
        "true_news = true_news.apply(preproc.forward)\n",
        "\n",
        "fake_news.head()"
      ]
    },
    {
      "cell_type": "code",
      "execution_count": null,
      "metadata": {
        "id": "EL1cS0dgCvk2"
      },
      "outputs": [],
      "source": [
        "fake_news = pd.DataFrame(fake_news)\n",
        "true_news = pd.DataFrame(true_news)\n",
        "\n",
        "fake_news = fake_news.assign(is_fake = [1]*len(fake_news))\n",
        "true_news = true_news.assign(is_fake = [0]*len(true_news))"
      ]
    },
    {
      "cell_type": "code",
      "execution_count": null,
      "metadata": {
        "colab": {
          "base_uri": "https://localhost:8080/",
          "height": 207
        },
        "id": "6IiUwTTpjsae",
        "outputId": "2a59c747-4b63-4c82-d3aa-1134410fc145"
      },
      "outputs": [
        {
          "data": {
            "text/html": [
              "<div>\n",
              "<style scoped>\n",
              "    .dataframe tbody tr th:only-of-type {\n",
              "        vertical-align: middle;\n",
              "    }\n",
              "\n",
              "    .dataframe tbody tr th {\n",
              "        vertical-align: top;\n",
              "    }\n",
              "\n",
              "    .dataframe thead th {\n",
              "        text-align: right;\n",
              "    }\n",
              "</style>\n",
              "<table border=\"1\" class=\"dataframe\">\n",
              "  <thead>\n",
              "    <tr style=\"text-align: right;\">\n",
              "      <th></th>\n",
              "      <th>text</th>\n",
              "      <th>is_fake</th>\n",
              "    </tr>\n",
              "  </thead>\n",
              "  <tbody>\n",
              "    <tr>\n",
              "      <th>0</th>\n",
              "      <td>donald trump wish americans happy new year lea...</td>\n",
              "      <td>1</td>\n",
              "    </tr>\n",
              "    <tr>\n",
              "      <th>1</th>\n",
              "      <td>house intelligence committee chairman devin nu...</td>\n",
              "      <td>1</td>\n",
              "    </tr>\n",
              "    <tr>\n",
              "      <th>2</th>\n",
              "      <td>friday -PRON- reveal former milwaukee sheriff ...</td>\n",
              "      <td>1</td>\n",
              "    </tr>\n",
              "    <tr>\n",
              "      <th>3</th>\n",
              "      <td>christmas day donald trump announce -PRON- wou...</td>\n",
              "      <td>1</td>\n",
              "    </tr>\n",
              "    <tr>\n",
              "      <th>4</th>\n",
              "      <td>pope francis use -PRON- annual christmas day m...</td>\n",
              "      <td>1</td>\n",
              "    </tr>\n",
              "  </tbody>\n",
              "</table>\n",
              "</div>"
            ],
            "text/plain": [
              "                                                text  is_fake\n",
              "0  donald trump wish americans happy new year lea...        1\n",
              "1  house intelligence committee chairman devin nu...        1\n",
              "2  friday -PRON- reveal former milwaukee sheriff ...        1\n",
              "3  christmas day donald trump announce -PRON- wou...        1\n",
              "4  pope francis use -PRON- annual christmas day m...        1"
            ]
          },
          "execution_count": 37,
          "metadata": {},
          "output_type": "execute_result"
        }
      ],
      "source": [
        "fake_news.head()"
      ]
    },
    {
      "cell_type": "code",
      "execution_count": null,
      "metadata": {
        "id": "H2kUtPorO8-_"
      },
      "outputs": [],
      "source": [
        "fake_news.to_csv('Fake_news_preprocessed.csv')\n",
        "true_news.to_csv('True_news_preprocessed.csv')"
      ]
    },
    {
      "cell_type": "markdown",
      "metadata": {
        "id": "bKPAXMJ0USI0"
      },
      "source": [
        "## Checkpoint Preprocessing done"
      ]
    },
    {
      "cell_type": "code",
      "execution_count": 8,
      "metadata": {
        "id": "SZ5nbt2HURD7"
      },
      "outputs": [],
      "source": [
        "fake_news = pd.read_csv('/content/smart-news-website/Fake_news_preprocessed.csv')\n",
        "true_news = pd.read_csv('/content/smart-news-website/True_news_preprocessed.csv')"
      ]
    },
    {
      "cell_type": "code",
      "execution_count": 9,
      "metadata": {
        "id": "xE_Z0GmqjEJM"
      },
      "outputs": [],
      "source": [
        "fake_news.dropna(axis=0, inplace=True)\n",
        "true_news.dropna(axis=0, inplace=True)"
      ]
    },
    {
      "cell_type": "code",
      "execution_count": 10,
      "metadata": {
        "id": "hZsbHd3ujsai"
      },
      "outputs": [],
      "source": [
        "from sklearn.model_selection import train_test_split\n",
        "\n",
        "train_fake_X, t_fake_X, train_fake_y, t_fake_y = train_test_split(fake_news.drop('is_fake', axis=1), fake_news['is_fake'], test_size=0.2, random_state=101)\n",
        "test_fake_X, val_fake_X, test_fake_y, val_fake_y = train_test_split(t_fake_X, t_fake_y, test_size=0.5, random_state=101)\n",
        "\n",
        "train_true_X, t_true_X, train_true_y, t_true_y = train_test_split(true_news.drop('is_fake', axis=1), true_news['is_fake'], test_size=0.2, random_state=101)\n",
        "test_true_X, val_true_X, test_true_y, val_true_y = train_test_split(t_true_X, t_true_y, test_size=0.5, random_state=101)"
      ]
    },
    {
      "cell_type": "code",
      "execution_count": 11,
      "metadata": {
        "id": "Wk6cUPChjsak"
      },
      "outputs": [],
      "source": [
        "# Joining fake and true dataframes\n",
        "\n",
        "train_X = pd.concat([train_fake_X, train_true_X])\n",
        "val_X = pd.concat([val_fake_X, val_true_X])\n",
        "test_X = pd.concat([test_fake_X, test_true_X])\n",
        "\n",
        "train_y = pd.concat([train_fake_y, train_true_y])\n",
        "val_y = pd.concat([val_fake_y, val_true_y])\n",
        "test_y = pd.concat([test_fake_y, test_true_y])\n",
        "\n",
        "train_y = pd.DataFrame(train_y)\n",
        "val_y = pd.DataFrame(val_y)\n",
        "test_y = pd.DataFrame(test_y)"
      ]
    },
    {
      "cell_type": "code",
      "execution_count": 12,
      "metadata": {
        "id": "uMCXQ4C4jsal"
      },
      "outputs": [],
      "source": [
        "train_X = train_X['text']\n",
        "val_X = val_X['text']\n",
        "test_X = test_X['text']"
      ]
    },
    {
      "cell_type": "code",
      "execution_count": 13,
      "metadata": {
        "colab": {
          "base_uri": "https://localhost:8080/"
        },
        "id": "o4Via1TXUtnk",
        "outputId": "0a6e4c33-4455-42cc-d6f6-1a470ccec86a"
      },
      "outputs": [
        {
          "data": {
            "text/plain": [
              "(35412,)"
            ]
          },
          "execution_count": 13,
          "metadata": {},
          "output_type": "execute_result"
        }
      ],
      "source": [
        "train_X.shape"
      ]
    },
    {
      "cell_type": "code",
      "execution_count": 14,
      "metadata": {
        "id": "VOQsdOBijsam"
      },
      "outputs": [],
      "source": [
        "from sklearn.feature_extraction.text import TfidfVectorizer\n",
        "\n",
        "vectorizer = TfidfVectorizer(max_features = 50000, lowercase=False, ngram_range=(1,2))\n",
        "train_X_vec = vectorizer.fit_transform(train_X)\n",
        "val_X_vec = vectorizer.transform(val_X)\n",
        "test_X_vec = vectorizer.transform(test_X)"
      ]
    },
    {
      "cell_type": "code",
      "execution_count": 15,
      "metadata": {
        "colab": {
          "base_uri": "https://localhost:8080/"
        },
        "id": "mhODKZrYPqPI",
        "outputId": "c58fc04b-8871-46d8-86eb-18857c356ee1"
      },
      "outputs": [
        {
          "data": {
            "text/plain": [
              "['tfidf_for_fakenews.pkl']"
            ]
          },
          "execution_count": 15,
          "metadata": {},
          "output_type": "execute_result"
        }
      ],
      "source": [
        "import joblib\n",
        "\n",
        "joblib.dump(vectorizer, 'tfidf_for_fakenews.pkl')"
      ]
    },
    {
      "cell_type": "code",
      "execution_count": 16,
      "metadata": {
        "colab": {
          "base_uri": "https://localhost:8080/"
        },
        "id": "6bp1rwuJ6Yh3",
        "outputId": "6d349fcd-cd96-4a09-e1a7-08ef6ed94322"
      },
      "outputs": [
        {
          "data": {
            "text/plain": [
              "array([[0., 0., 0., ..., 0., 0., 0.],\n",
              "       [0., 0., 0., ..., 0., 0., 0.],\n",
              "       [0., 0., 0., ..., 0., 0., 0.],\n",
              "       ...,\n",
              "       [0., 0., 0., ..., 0., 0., 0.],\n",
              "       [0., 0., 0., ..., 0., 0., 0.],\n",
              "       [0., 0., 0., ..., 0., 0., 0.]])"
            ]
          },
          "execution_count": 16,
          "metadata": {},
          "output_type": "execute_result"
        }
      ],
      "source": [
        "train_X_vec[:2048].toarray()"
      ]
    },
    {
      "cell_type": "code",
      "execution_count": 20,
      "metadata": {
        "id": "ORKMf44eiE7l"
      },
      "outputs": [],
      "source": [
        "import torch\n",
        "import torch.nn as nn\n",
        "import torch.nn.functional as F\n",
        "\n",
        "class Model(nn.Module):\n",
        "    \n",
        "    def __init__(self, input_features=50000, hidden1=256, hidden2=32, output_features=1):\n",
        "        super(Model, self).__init__()\n",
        "        self.fc1 = nn.Linear(input_features, hidden1)\n",
        "        self.fc2 = nn.Linear(hidden1, hidden2)\n",
        "        self.out = nn.Linear(hidden2, output_features)\n",
        "\n",
        "    def forward(self, x):\n",
        "\n",
        "        x = F.relu(self.fc1(x))\n",
        "        x = F.relu(self.fc2(x))\n",
        "        x = self.out(x)\n",
        "        \n",
        "        return torch.sigmoid(x)"
      ]
    },
    {
      "cell_type": "code",
      "execution_count": 21,
      "metadata": {
        "colab": {
          "base_uri": "https://localhost:8080/"
        },
        "id": "S84fQGuS98lq",
        "outputId": "a9e2f831-7a4c-414f-b99e-7901e885b390"
      },
      "outputs": [
        {
          "data": {
            "text/plain": [
              "<bound method Module.parameters of Model(\n",
              "  (fc1): Linear(in_features=50000, out_features=256, bias=True)\n",
              "  (fc2): Linear(in_features=256, out_features=32, bias=True)\n",
              "  (out): Linear(in_features=32, out_features=1, bias=True)\n",
              ")>"
            ]
          },
          "execution_count": 21,
          "metadata": {},
          "output_type": "execute_result"
        }
      ],
      "source": [
        "fake_model = Model()\n",
        "fake_model.parameters"
      ]
    },
    {
      "cell_type": "code",
      "execution_count": 22,
      "metadata": {
        "colab": {
          "base_uri": "https://localhost:8080/"
        },
        "id": "SvONn6Wy-Frp",
        "outputId": "36da921e-4fde-48a2-9f84-b0ce877eed90"
      },
      "outputs": [
        {
          "name": "stdout",
          "output_type": "stream",
          "text": [
            "Epoch #1; Batch #2; Loss: 0.7663084268569946\n",
            "Epoch #1; Batch #3; Loss: 0.7561192512512207\n",
            "Epoch #1; Batch #4; Loss: 0.7445673942565918\n",
            "Epoch #1; Batch #5; Loss: 0.7323173880577087\n",
            "Epoch #1; Batch #6; Loss: 0.7199196219444275\n",
            "Epoch #1; Batch #7; Loss: 0.7071658968925476\n",
            "Epoch #1; Batch #8; Loss: 0.6925757527351379\n",
            "Epoch #1; Batch #9; Loss: 0.6743639707565308\n",
            "Epoch #1; Batch #10; Loss: 0.6568290591239929\n",
            "Epoch #1; Batch #11; Loss: 0.6346405148506165\n",
            "Epoch #1; Batch #12; Loss: 0.6140873432159424\n",
            "Epoch #1; Batch #13; Loss: 0.5905654430389404\n",
            "Epoch #1; Batch #14; Loss: 0.5649264454841614\n",
            "Epoch #1; Batch #15; Loss: 0.5421420335769653\n",
            "Epoch #1; Batch #16; Loss: 0.5135176777839661\n",
            "Epoch #1; Batch #17; Loss: 0.48088958859443665\n",
            "Epoch #1; Batch #18; Loss: 0.4526417553424835\n",
            "Epoch #1; Batch #19; Loss: 0.5117308497428894\n",
            "Epoch #1; Batch #20; Loss: 1.0932713747024536\n",
            "Epoch #1; Batch #21; Loss: 1.109418511390686\n",
            "Epoch #1; Batch #22; Loss: 1.1220955848693848\n",
            "Epoch #1; Batch #23; Loss: 1.1095569133758545\n",
            "Epoch #1; Batch #24; Loss: 1.07721745967865\n",
            "Epoch #1; Batch #25; Loss: 1.0489546060562134\n",
            "Epoch #1; Batch #26; Loss: 1.021751880645752\n",
            "Epoch #1; Batch #27; Loss: 0.9792180061340332\n",
            "Epoch #1; Batch #28; Loss: 0.9490395784378052\n",
            "Epoch #1; Batch #29; Loss: 0.9066649675369263\n",
            "Epoch #1; Batch #30; Loss: 0.8775127530097961\n",
            "Epoch #1; Batch #31; Loss: 0.8459833860397339\n",
            "Epoch #1; Batch #32; Loss: 0.8205711245536804\n",
            "Epoch #1; Batch #33; Loss: 0.7905457615852356\n",
            "Epoch #1; Batch #34; Loss: 0.7666931748390198\n",
            "Epoch #1; Batch #35; Loss: 0.7444333434104919\n",
            "Epoch #2; Batch #2; Loss: 0.5687644481658936\n",
            "Epoch #2; Batch #3; Loss: 0.578986644744873\n",
            "Epoch #2; Batch #4; Loss: 0.5885860323905945\n",
            "Epoch #2; Batch #5; Loss: 0.5963611006736755\n",
            "Epoch #2; Batch #6; Loss: 0.6020363569259644\n",
            "Epoch #2; Batch #7; Loss: 0.6038485169410706\n",
            "Epoch #2; Batch #8; Loss: 0.6045281887054443\n",
            "Epoch #2; Batch #9; Loss: 0.6000814437866211\n",
            "Epoch #2; Batch #10; Loss: 0.5975783467292786\n",
            "Epoch #2; Batch #11; Loss: 0.5915465950965881\n",
            "Epoch #2; Batch #12; Loss: 0.588627815246582\n",
            "Epoch #2; Batch #13; Loss: 0.5827690362930298\n",
            "Epoch #2; Batch #14; Loss: 0.5706308484077454\n",
            "Epoch #2; Batch #15; Loss: 0.5673563480377197\n",
            "Epoch #2; Batch #16; Loss: 0.5564446449279785\n",
            "Epoch #2; Batch #17; Loss: 0.5393538475036621\n",
            "Epoch #2; Batch #18; Loss: 0.5297462940216064\n",
            "Epoch #2; Batch #19; Loss: 0.5438539385795593\n",
            "Epoch #2; Batch #20; Loss: 0.7075853943824768\n",
            "Epoch #2; Batch #21; Loss: 0.7100146412849426\n",
            "Epoch #2; Batch #22; Loss: 0.7205222249031067\n",
            "Epoch #2; Batch #23; Loss: 0.7185922265052795\n",
            "Epoch #2; Batch #24; Loss: 0.7182855606079102\n",
            "Epoch #2; Batch #25; Loss: 0.7147102952003479\n",
            "Epoch #2; Batch #26; Loss: 0.7146354913711548\n",
            "Epoch #2; Batch #27; Loss: 0.7050250172615051\n",
            "Epoch #2; Batch #28; Loss: 0.7074262499809265\n",
            "Epoch #2; Batch #29; Loss: 0.6942360401153564\n",
            "Epoch #2; Batch #30; Loss: 0.6905449628829956\n",
            "Epoch #2; Batch #31; Loss: 0.682963490486145\n",
            "Epoch #2; Batch #32; Loss: 0.6781682372093201\n",
            "Epoch #2; Batch #33; Loss: 0.6707645654678345\n",
            "Epoch #2; Batch #34; Loss: 0.6676104068756104\n",
            "Epoch #2; Batch #35; Loss: 0.6612002849578857\n",
            "Epoch #3; Batch #2; Loss: 0.5063901543617249\n",
            "Epoch #3; Batch #3; Loss: 0.5052304863929749\n",
            "Epoch #3; Batch #4; Loss: 0.5079095363616943\n",
            "Epoch #3; Batch #5; Loss: 0.509758710861206\n",
            "Epoch #3; Batch #6; Loss: 0.5080736875534058\n",
            "Epoch #3; Batch #7; Loss: 0.4998554587364197\n",
            "Epoch #3; Batch #8; Loss: 0.49231278896331787\n",
            "Epoch #3; Batch #9; Loss: 0.4764818847179413\n",
            "Epoch #3; Batch #10; Loss: 0.4637618660926819\n",
            "Epoch #3; Batch #11; Loss: 0.44858914613723755\n",
            "Epoch #3; Batch #12; Loss: 0.4387683570384979\n",
            "Epoch #3; Batch #13; Loss: 0.42475080490112305\n",
            "Epoch #3; Batch #14; Loss: 0.39806056022644043\n",
            "Epoch #3; Batch #15; Loss: 0.3912530839443207\n",
            "Epoch #3; Batch #16; Loss: 0.369953989982605\n",
            "Epoch #3; Batch #17; Loss: 0.3392127752304077\n",
            "Epoch #3; Batch #18; Loss: 0.3234320282936096\n",
            "Epoch #3; Batch #19; Loss: 0.36323150992393494\n",
            "Epoch #3; Batch #20; Loss: 0.7271515130996704\n",
            "Epoch #3; Batch #21; Loss: 0.733590841293335\n",
            "Epoch #3; Batch #22; Loss: 0.7558407187461853\n",
            "Epoch #3; Batch #23; Loss: 0.7517766952514648\n",
            "Epoch #3; Batch #24; Loss: 0.7537079453468323\n",
            "Epoch #3; Batch #25; Loss: 0.7442477345466614\n",
            "Epoch #3; Batch #26; Loss: 0.7430351972579956\n",
            "Epoch #3; Batch #27; Loss: 0.7215672135353088\n",
            "Epoch #3; Batch #28; Loss: 0.7312314510345459\n",
            "Epoch #3; Batch #29; Loss: 0.7036963701248169\n",
            "Epoch #3; Batch #30; Loss: 0.7010350227355957\n",
            "Epoch #3; Batch #31; Loss: 0.6900559067726135\n",
            "Epoch #3; Batch #32; Loss: 0.6803585290908813\n",
            "Epoch #3; Batch #33; Loss: 0.6703588962554932\n",
            "Epoch #3; Batch #34; Loss: 0.6678209900856018\n",
            "Epoch #3; Batch #35; Loss: 0.6574848294258118\n",
            "Epoch #4; Batch #2; Loss: 0.3152812421321869\n",
            "Epoch #4; Batch #3; Loss: 0.3132781982421875\n",
            "Epoch #4; Batch #4; Loss: 0.3173363208770752\n",
            "Epoch #4; Batch #5; Loss: 0.32047218084335327\n",
            "Epoch #4; Batch #6; Loss: 0.3185127377510071\n",
            "Epoch #4; Batch #7; Loss: 0.30681607127189636\n",
            "Epoch #4; Batch #8; Loss: 0.29871320724487305\n",
            "Epoch #4; Batch #9; Loss: 0.27964070439338684\n",
            "Epoch #4; Batch #10; Loss: 0.26571667194366455\n",
            "Epoch #4; Batch #11; Loss: 0.2519993185997009\n",
            "Epoch #4; Batch #12; Loss: 0.24383732676506042\n",
            "Epoch #4; Batch #13; Loss: 0.23266445100307465\n",
            "Epoch #4; Batch #14; Loss: 0.20602573454380035\n",
            "Epoch #4; Batch #15; Loss: 0.20497046411037445\n",
            "Epoch #4; Batch #16; Loss: 0.18625274300575256\n",
            "Epoch #4; Batch #17; Loss: 0.1604316532611847\n",
            "Epoch #4; Batch #18; Loss: 0.15136510133743286\n",
            "Epoch #4; Batch #19; Loss: 0.2195291519165039\n",
            "Epoch #4; Batch #20; Loss: 0.708838701248169\n",
            "Epoch #4; Batch #21; Loss: 0.7128949165344238\n",
            "Epoch #4; Batch #22; Loss: 0.7389715909957886\n",
            "Epoch #4; Batch #23; Loss: 0.7331589460372925\n",
            "Epoch #4; Batch #24; Loss: 0.7379097938537598\n",
            "Epoch #4; Batch #25; Loss: 0.7239680886268616\n",
            "Epoch #4; Batch #26; Loss: 0.7192622423171997\n",
            "Epoch #4; Batch #27; Loss: 0.694119930267334\n",
            "Epoch #4; Batch #28; Loss: 0.7132819890975952\n",
            "Epoch #4; Batch #29; Loss: 0.6823432445526123\n",
            "Epoch #4; Batch #30; Loss: 0.681718111038208\n",
            "Epoch #4; Batch #31; Loss: 0.6736003160476685\n",
            "Epoch #4; Batch #32; Loss: 0.661590576171875\n",
            "Epoch #4; Batch #33; Loss: 0.6539843678474426\n",
            "Epoch #4; Batch #34; Loss: 0.6538444757461548\n",
            "Epoch #4; Batch #35; Loss: 0.6408115029335022\n",
            "Epoch #5; Batch #2; Loss: 0.1539059728384018\n",
            "Epoch #5; Batch #3; Loss: 0.15113915503025055\n",
            "Epoch #5; Batch #4; Loss: 0.15779316425323486\n",
            "Epoch #5; Batch #5; Loss: 0.16465651988983154\n",
            "Epoch #5; Batch #6; Loss: 0.16809259355068207\n",
            "Epoch #5; Batch #7; Loss: 0.16209879517555237\n",
            "Epoch #5; Batch #8; Loss: 0.16078682243824005\n",
            "Epoch #5; Batch #9; Loss: 0.1502976417541504\n",
            "Epoch #5; Batch #10; Loss: 0.14386312663555145\n",
            "Epoch #5; Batch #11; Loss: 0.14016465842723846\n",
            "Epoch #5; Batch #12; Loss: 0.13747107982635498\n",
            "Epoch #5; Batch #13; Loss: 0.13494837284088135\n",
            "Epoch #5; Batch #14; Loss: 0.11695827543735504\n",
            "Epoch #5; Batch #15; Loss: 0.12189921736717224\n",
            "Epoch #5; Batch #16; Loss: 0.11029738932847977\n",
            "Epoch #5; Batch #17; Loss: 0.0936928540468216\n",
            "Epoch #5; Batch #18; Loss: 0.0912325531244278\n",
            "Epoch #5; Batch #19; Loss: 0.16405676305294037\n",
            "Epoch #5; Batch #20; Loss: 0.6358578205108643\n",
            "Epoch #5; Batch #21; Loss: 0.6396306753158569\n",
            "Epoch #5; Batch #22; Loss: 0.6561543941497803\n",
            "Epoch #5; Batch #23; Loss: 0.655246913433075\n",
            "Epoch #5; Batch #24; Loss: 0.6581815481185913\n",
            "Epoch #5; Batch #25; Loss: 0.6518193483352661\n",
            "Epoch #5; Batch #26; Loss: 0.6460829973220825\n",
            "Epoch #5; Batch #27; Loss: 0.630542516708374\n",
            "Epoch #5; Batch #28; Loss: 0.6464888453483582\n",
            "Epoch #5; Batch #29; Loss: 0.6278132200241089\n",
            "Epoch #5; Batch #30; Loss: 0.6293511986732483\n",
            "Epoch #5; Batch #31; Loss: 0.6231884956359863\n",
            "Epoch #5; Batch #32; Loss: 0.6154865026473999\n",
            "Epoch #5; Batch #33; Loss: 0.6121843457221985\n",
            "Epoch #5; Batch #34; Loss: 0.6121569871902466\n",
            "Epoch #5; Batch #35; Loss: 0.5997553467750549\n",
            "Epoch #6; Batch #2; Loss: 0.09068714827299118\n",
            "Epoch #6; Batch #3; Loss: 0.0886375829577446\n",
            "Epoch #6; Batch #4; Loss: 0.0936511978507042\n",
            "Epoch #6; Batch #5; Loss: 0.09835253655910492\n",
            "Epoch #6; Batch #6; Loss: 0.10150103271007538\n",
            "Epoch #6; Batch #7; Loss: 0.09603798389434814\n",
            "Epoch #6; Batch #8; Loss: 0.09545685350894928\n",
            "Epoch #6; Batch #9; Loss: 0.08830009400844574\n",
            "Epoch #6; Batch #10; Loss: 0.0849628895521164\n",
            "Epoch #6; Batch #11; Loss: 0.08402612805366516\n",
            "Epoch #6; Batch #12; Loss: 0.08147979527711868\n",
            "Epoch #6; Batch #13; Loss: 0.08201879262924194\n",
            "Epoch #6; Batch #14; Loss: 0.06989392638206482\n",
            "Epoch #6; Batch #15; Loss: 0.07461705803871155\n",
            "Epoch #6; Batch #16; Loss: 0.06656575947999954\n",
            "Epoch #6; Batch #17; Loss: 0.0562940314412117\n",
            "Epoch #6; Batch #18; Loss: 0.055548012256622314\n",
            "Epoch #6; Batch #19; Loss: 0.12876415252685547\n",
            "Epoch #6; Batch #20; Loss: 0.5870013236999512\n",
            "Epoch #6; Batch #21; Loss: 0.590437114238739\n",
            "Epoch #6; Batch #22; Loss: 0.6018174886703491\n",
            "Epoch #6; Batch #23; Loss: 0.6034548878669739\n",
            "Epoch #6; Batch #24; Loss: 0.5999988317489624\n",
            "Epoch #6; Batch #25; Loss: 0.5977097749710083\n",
            "Epoch #6; Batch #26; Loss: 0.5905464291572571\n",
            "Epoch #6; Batch #27; Loss: 0.5805707573890686\n",
            "Epoch #6; Batch #28; Loss: 0.5905769467353821\n",
            "Epoch #6; Batch #29; Loss: 0.5794916152954102\n",
            "Epoch #6; Batch #30; Loss: 0.5814266800880432\n",
            "Epoch #6; Batch #31; Loss: 0.5753582715988159\n",
            "Epoch #6; Batch #32; Loss: 0.5697567462921143\n",
            "Epoch #6; Batch #33; Loss: 0.5696251392364502\n",
            "Epoch #6; Batch #34; Loss: 0.5680790543556213\n",
            "Epoch #6; Batch #35; Loss: 0.5572361350059509\n"
          ]
        }
      ],
      "source": [
        "epochs = 6\n",
        "learning_rate = 1e-3\n",
        "loss_fn = nn.BCELoss()\n",
        "optimizer = torch.optim.Adam(fake_model.parameters(), lr = learning_rate)\n",
        "batch_size = 1024\n",
        "\n",
        "final_losses = []\n",
        "\n",
        "for i in range(epochs):\n",
        "    \n",
        "    batch_idx = 0\n",
        "\n",
        "    while (batch_idx+1)*batch_size < train_X_vec.shape[0]:\n",
        "        \n",
        "        batch_X = train_X_vec[batch_idx*batch_size:(batch_idx+1)*batch_size].toarray()\n",
        "        batch_y = train_y[batch_idx*batch_size:(batch_idx+1)*batch_size]\n",
        "        y_pred = fake_model.forward(torch.Tensor(batch_X))\n",
        "\n",
        "        loss = loss_fn(y_pred, torch.Tensor(np.array(batch_y)))\n",
        "        final_losses.append(loss)\n",
        "\n",
        "        optimizer.zero_grad()\n",
        "        loss.backward()\n",
        "        optimizer.step()\n",
        "        batch_idx += 1\n",
        "        del batch_X\n",
        "        del batch_y\n",
        "\n",
        "        print(f'Epoch #{i+1}; Batch #{batch_idx+1}; Loss: {loss.item()}')"
      ]
    },
    {
      "cell_type": "code",
      "execution_count": 23,
      "metadata": {
        "id": "HlWoQJuQwk68"
      },
      "outputs": [],
      "source": [
        "torch.save(fake_model, 'fake_model_l.pt')"
      ]
    },
    {
      "cell_type": "code",
      "execution_count": 24,
      "metadata": {
        "id": "ZdRzOWy-BBh4"
      },
      "outputs": [],
      "source": [
        "torch.save(fake_model.state_dict(), 'fake_model_state_dict.pt')"
      ]
    },
    {
      "cell_type": "markdown",
      "metadata": {
        "id": "_uFux4XmCPyk"
      },
      "source": [
        "## Evaluation"
      ]
    },
    {
      "cell_type": "code",
      "execution_count": 25,
      "metadata": {
        "colab": {
          "base_uri": "https://localhost:8080/",
          "height": 296
        },
        "id": "jYEhkOHECQ5R",
        "outputId": "3c5ecccd-8704-4439-b6ac-f6b73cd38cd2"
      },
      "outputs": [
        {
          "data": {
            "text/plain": [
              "Text(0, 0.5, 'Loss')"
            ]
          },
          "execution_count": 25,
          "metadata": {},
          "output_type": "execute_result"
        },
        {
          "data": {
            "image/png": "[encoded data removed]",
            "text/plain": [
              "<Figure size 432x288 with 1 Axes>"
            ]
          },
          "metadata": {
            "needs_background": "light"
          },
          "output_type": "display_data"
        }
      ],
      "source": [
        "import matplotlib.pyplot as plt\n",
        "import seaborn as sns\n",
        "%matplotlib inline\n",
        "\n",
        "plt.plot(range(len(final_losses[:400])), final_losses[:400])\n",
        "plt.xlabel('Batches')\n",
        "plt.ylabel('Loss')"
      ]
    },
    {
      "cell_type": "code",
      "execution_count": 26,
      "metadata": {
        "id": "QwuFGylrCsZw"
      },
      "outputs": [],
      "source": [
        "y_pred = []\n",
        "\n",
        "for i, data in enumerate(torch.Tensor(val_X_vec.toarray())):\n",
        "    y_pred.append(int(fake_model(data)>0.5))"
      ]
    },
    {
      "cell_type": "code",
      "execution_count": 27,
      "metadata": {
        "colab": {
          "base_uri": "https://localhost:8080/"
        },
        "id": "QMys9BCLEBgl",
        "outputId": "5a64b3cb-7cb4-4eee-a230-1884c7041f3f"
      },
      "outputs": [
        {
          "data": {
            "text/plain": [
              "4428"
            ]
          },
          "execution_count": 27,
          "metadata": {},
          "output_type": "execute_result"
        }
      ],
      "source": [
        "len(y_pred)"
      ]
    },
    {
      "cell_type": "code",
      "execution_count": 29,
      "metadata": {
        "colab": {
          "base_uri": "https://localhost:8080/"
        },
        "id": "9y6tmHkkFMzL",
        "outputId": "23156c34-8bc7-40df-82a9-7ed216d2f4a2"
      },
      "outputs": [
        {
          "data": {
            "text/plain": [
              "2382"
            ]
          },
          "execution_count": 29,
          "metadata": {},
          "output_type": "execute_result"
        }
      ],
      "source": [
        "sum = 0\n",
        "for i in y_pred:\n",
        "    if i == 1:\n",
        "        sum += 1\n",
        "sum"
      ]
    },
    {
      "cell_type": "code",
      "execution_count": 30,
      "metadata": {
        "colab": {
          "base_uri": "https://localhost:8080/"
        },
        "id": "d1wDXElzEiEV",
        "outputId": "42941314-1064-493c-9187-59e5dbc07b06"
      },
      "outputs": [
        {
          "name": "stdout",
          "output_type": "stream",
          "text": [
            "[[2035  107]\n",
            " [  11 2275]]\n"
          ]
        }
      ],
      "source": [
        "from sklearn.metrics import classification_report, confusion_matrix\n",
        "\n",
        "print(confusion_matrix(val_y, y_pred))"
      ]
    },
    {
      "cell_type": "code",
      "execution_count": 31,
      "metadata": {
        "colab": {
          "base_uri": "https://localhost:8080/"
        },
        "id": "RPZF4SkLE7yI",
        "outputId": "1b18ca0a-451f-44dc-a985-4a40a311b7cd"
      },
      "outputs": [
        {
          "name": "stdout",
          "output_type": "stream",
          "text": [
            "              precision    recall  f1-score   support\n",
            "\n",
            "           0       0.99      0.95      0.97      2142\n",
            "           1       0.96      1.00      0.97      2286\n",
            "\n",
            "    accuracy                           0.97      4428\n",
            "   macro avg       0.97      0.97      0.97      4428\n",
            "weighted avg       0.97      0.97      0.97      4428\n",
            "\n"
          ]
        }
      ],
      "source": [
        "print(classification_report(val_y, y_pred))"
      ]
    },
    {
      "cell_type": "code",
      "execution_count": 32,
      "metadata": {
        "id": "eDdAfJ-0GVL6"
      },
      "outputs": [],
      "source": [
        "y_pred = []\n",
        "\n",
        "for i, data in enumerate(torch.Tensor(test_X_vec.toarray())):\n",
        "    y_pred.append(int(fake_model(data)>0.5))"
      ]
    },
    {
      "cell_type": "code",
      "execution_count": 34,
      "metadata": {
        "colab": {
          "base_uri": "https://localhost:8080/"
        },
        "id": "WQoxG4uhGZhA",
        "outputId": "e6e099a1-ae3e-4d7f-f332-ece5b9bed917"
      },
      "outputs": [
        {
          "data": {
            "text/plain": [
              "2056"
            ]
          },
          "execution_count": 34,
          "metadata": {},
          "output_type": "execute_result"
        }
      ],
      "source": [
        "sum = 0\n",
        "for i in y_pred:\n",
        "    if i == 0:\n",
        "        sum += 1\n",
        "sum"
      ]
    },
    {
      "cell_type": "code",
      "execution_count": 35,
      "metadata": {
        "colab": {
          "base_uri": "https://localhost:8080/"
        },
        "id": "iyN3CgizGZ02",
        "outputId": "9bbc77ca-2e6b-4f2e-bda0-d252b0a2ae16"
      },
      "outputs": [
        {
          "name": "stdout",
          "output_type": "stream",
          "text": [
            "[[2037  105]\n",
            " [  19 2266]]\n"
          ]
        }
      ],
      "source": [
        "print(confusion_matrix(test_y, y_pred))"
      ]
    },
    {
      "cell_type": "code",
      "execution_count": 36,
      "metadata": {
        "colab": {
          "base_uri": "https://localhost:8080/"
        },
        "id": "HyYBmJOaGd05",
        "outputId": "9ddef062-ef4d-4829-adcc-f389b172567d"
      },
      "outputs": [
        {
          "name": "stdout",
          "output_type": "stream",
          "text": [
            "              precision    recall  f1-score   support\n",
            "\n",
            "           0       0.99      0.95      0.97      2142\n",
            "           1       0.96      0.99      0.97      2285\n",
            "\n",
            "    accuracy                           0.97      4427\n",
            "   macro avg       0.97      0.97      0.97      4427\n",
            "weighted avg       0.97      0.97      0.97      4427\n",
            "\n"
          ]
        }
      ],
      "source": [
        "print(classification_report(test_y, y_pred))"
      ]
    },
    {
      "cell_type": "code",
      "execution_count": 41,
      "metadata": {
        "colab": {
          "base_uri": "https://localhost:8080/"
        },
        "id": "KqWonvlSGeAG",
        "outputId": "83a86c57-17a8-481a-ee3d-44d8d45f5587"
      },
      "outputs": [
        {
          "name": "stdout",
          "output_type": "stream",
          "text": [
            "[[0. 0. 0. ... 0. 0. 0.]]\n",
            "[tensor([0.8749], grad_fn=<SigmoidBackward>)]\n"
          ]
        }
      ],
      "source": [
        "import sys\n",
        "import torch\n",
        "from model import Model\n",
        "from data import PreProcessor\n",
        "import joblib\n",
        "\n",
        "text = 'New species of alien have been found on planet Cheemsland. The human race will have a hard time naming the new species as they have only testicles.'\n",
        "preproc = PreProcessor()\n",
        "text = preproc.forward(text)\n",
        "\n",
        "vectorizer = joblib.load('tfidf_for_fakenews.pkl')\n",
        "text = vectorizer.transform([text])\n",
        "\n",
        "print(text.toarray())\n",
        "\n",
        "text = torch.Tensor(text.toarray())\n",
        "\n",
        "model = Model()\n",
        "model = torch.load('fake_model_l.pt')\n",
        "model.eval()\n",
        "\n",
        "y_pred = []\n",
        "\n",
        "for i, data in enumerate(text):\n",
        "    y_pred.append(fake_model(data))\n",
        "\n",
        "print(y_pred)"
      ]
    }
  ],
  "metadata": {
    "colab": {
      "collapsed_sections": [],
      "name": "test.ipynb",
      "provenance": []
    },
    "interpreter": {
      "hash": "916dbcbb3f70747c44a77c7bcd40155683ae19c65e1c03b4aa3499c5328201f1"
    },
    "kernelspec": {
      "display_name": "Python 3.8.10 64-bit",
      "name": "python3"
    },
    "language_info": {
      "codemirror_mode": {
        "name": "ipython",
        "version": 3
      },
      "file_extension": ".py",
      "mimetype": "text/x-python",
      "name": "python",
      "nbconvert_exporter": "python",
      "pygments_lexer": "ipython3",
      "version": "3.8.10"
    },
    "orig_nbformat": 4
  },
  "nbformat": 4,
  "nbformat_minor": 0
}
